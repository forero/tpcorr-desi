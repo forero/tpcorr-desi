{
 "cells": [
  {
   "cell_type": "code",
   "execution_count": 3,
   "id": "e596b8bf-888d-4576-a5c0-a9f2fe4dff7d",
   "metadata": {
    "tags": []
   },
   "outputs": [],
   "source": [
    "import os\n",
    "import glob"
   ]
  },
  {
   "cell_type": "code",
   "execution_count": 13,
   "id": "e5035e11-2685-4c4c-83f0-17d2b2cbefaa",
   "metadata": {
    "tags": []
   },
   "outputs": [],
   "source": [
    "model_A_path = '/global/cfs/cdirs/desi/spectro/desi_spectro_calib/trunk/spec/'\n",
    "model_B_path = '/global/cfs/cdirs/desi/users/schlafly/tpcorr-desi-spectro-calib/2comp/'"
   ]
  },
  {
   "cell_type": "code",
   "execution_count": 18,
   "id": "3352c352-6a53-417d-b6fb-31dd4300db9d",
   "metadata": {
    "tags": []
   },
   "outputs": [],
   "source": [
    "files_model_A = glob.glob(model_A_path+'/*/tpcorr*')\n",
    "files_model_A.sort()\n",
    "files_model_B = glob.glob(model_B_path+'/*/tpcorr*')\n",
    "files_model_B.sort()"
   ]
  },
  {
   "cell_type": "code",
   "execution_count": 17,
   "id": "f473aff8-9b19-4fe0-991a-f4bd79c85fd1",
   "metadata": {
    "tags": []
   },
   "outputs": [
    {
     "data": {
      "text/plain": [
       "['/global/cfs/cdirs/desi/spectro/desi_spectro_calib/trunk/spec/sm1/tpcorrparam-sm1-b4.fits',\n",
       " '/global/cfs/cdirs/desi/spectro/desi_spectro_calib/trunk/spec/sm1/tpcorrparam-sm1-r4.fits',\n",
       " '/global/cfs/cdirs/desi/spectro/desi_spectro_calib/trunk/spec/sm1/tpcorrparam-sm1-z4.fits',\n",
       " '/global/cfs/cdirs/desi/spectro/desi_spectro_calib/trunk/spec/sm10/tpcorrparam-sm10-b1.fits',\n",
       " '/global/cfs/cdirs/desi/spectro/desi_spectro_calib/trunk/spec/sm10/tpcorrparam-sm10-r1.fits',\n",
       " '/global/cfs/cdirs/desi/spectro/desi_spectro_calib/trunk/spec/sm10/tpcorrparam-sm10-z1.fits',\n",
       " '/global/cfs/cdirs/desi/spectro/desi_spectro_calib/trunk/spec/sm2/tpcorrparam-sm2-b8.fits',\n",
       " '/global/cfs/cdirs/desi/spectro/desi_spectro_calib/trunk/spec/sm2/tpcorrparam-sm2-r8.fits',\n",
       " '/global/cfs/cdirs/desi/spectro/desi_spectro_calib/trunk/spec/sm2/tpcorrparam-sm2-z8.fits',\n",
       " '/global/cfs/cdirs/desi/spectro/desi_spectro_calib/trunk/spec/sm3/tpcorrparam-sm3-b9.fits',\n",
       " '/global/cfs/cdirs/desi/spectro/desi_spectro_calib/trunk/spec/sm3/tpcorrparam-sm3-r9.fits',\n",
       " '/global/cfs/cdirs/desi/spectro/desi_spectro_calib/trunk/spec/sm3/tpcorrparam-sm3-z9.fits',\n",
       " '/global/cfs/cdirs/desi/spectro/desi_spectro_calib/trunk/spec/sm4/tpcorrparam-sm4-b0.fits',\n",
       " '/global/cfs/cdirs/desi/spectro/desi_spectro_calib/trunk/spec/sm4/tpcorrparam-sm4-r0.fits',\n",
       " '/global/cfs/cdirs/desi/spectro/desi_spectro_calib/trunk/spec/sm4/tpcorrparam-sm4-z0.fits',\n",
       " '/global/cfs/cdirs/desi/spectro/desi_spectro_calib/trunk/spec/sm5/tpcorrparam-sm5-b2.fits',\n",
       " '/global/cfs/cdirs/desi/spectro/desi_spectro_calib/trunk/spec/sm5/tpcorrparam-sm5-r2.fits',\n",
       " '/global/cfs/cdirs/desi/spectro/desi_spectro_calib/trunk/spec/sm5/tpcorrparam-sm5-z2.fits',\n",
       " '/global/cfs/cdirs/desi/spectro/desi_spectro_calib/trunk/spec/sm6/tpcorrparam-sm6-b3.fits',\n",
       " '/global/cfs/cdirs/desi/spectro/desi_spectro_calib/trunk/spec/sm6/tpcorrparam-sm6-r3.fits',\n",
       " '/global/cfs/cdirs/desi/spectro/desi_spectro_calib/trunk/spec/sm6/tpcorrparam-sm6-z3.fits',\n",
       " '/global/cfs/cdirs/desi/spectro/desi_spectro_calib/trunk/spec/sm7/tpcorrparam-sm7-b6.fits',\n",
       " '/global/cfs/cdirs/desi/spectro/desi_spectro_calib/trunk/spec/sm7/tpcorrparam-sm7-r6.fits',\n",
       " '/global/cfs/cdirs/desi/spectro/desi_spectro_calib/trunk/spec/sm7/tpcorrparam-sm7-z6.fits',\n",
       " '/global/cfs/cdirs/desi/spectro/desi_spectro_calib/trunk/spec/sm8/tpcorrparam-sm8-b7.fits',\n",
       " '/global/cfs/cdirs/desi/spectro/desi_spectro_calib/trunk/spec/sm8/tpcorrparam-sm8-r7.fits',\n",
       " '/global/cfs/cdirs/desi/spectro/desi_spectro_calib/trunk/spec/sm8/tpcorrparam-sm8-z7.fits',\n",
       " '/global/cfs/cdirs/desi/spectro/desi_spectro_calib/trunk/spec/sm9/tpcorrparam-sm9-b5.fits',\n",
       " '/global/cfs/cdirs/desi/spectro/desi_spectro_calib/trunk/spec/sm9/tpcorrparam-sm9-r5.fits',\n",
       " '/global/cfs/cdirs/desi/spectro/desi_spectro_calib/trunk/spec/sm9/tpcorrparam-sm9-z5.fits']"
      ]
     },
     "execution_count": 17,
     "metadata": {},
     "output_type": "execute_result"
    }
   ],
   "source": []
  },
  {
   "cell_type": "code",
   "execution_count": null,
   "id": "724e28d9-e5e9-480c-95a0-e8f07ae50611",
   "metadata": {},
   "outputs": [],
   "source": []
  }
 ],
 "metadata": {
  "kernelspec": {
   "display_name": "DESI main",
   "language": "python",
   "name": "desi-main"
  },
  "language_info": {
   "codemirror_mode": {
    "name": "ipython",
    "version": 3
   },
   "file_extension": ".py",
   "mimetype": "text/x-python",
   "name": "python",
   "nbconvert_exporter": "python",
   "pygments_lexer": "ipython3",
   "version": "3.10.14"
  }
 },
 "nbformat": 4,
 "nbformat_minor": 5
}
